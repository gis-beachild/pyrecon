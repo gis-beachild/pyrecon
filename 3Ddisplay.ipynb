{
 "cells": [
  {
   "cell_type": "code",
   "execution_count": 1,
   "id": "a404e33c",
   "metadata": {},
   "outputs": [],
   "source": [
    "import nibabel as nib\n",
    "import matplotlib.pyplot as plt\n",
    "import ipywidgets as widgets\n",
    "import numpy as np\n",
    "from registration import loadSlice, commonSegment, computeCostBetweenAll2Dimages,costFromMatrix, global_optimization, commonProfil, sliceProfil, updateCostBetweenAllImageAndOne, costLocal, cost_fct, normalization \n",
    "from data_simulation import createMvt, SimulImageWth0Transform, ErrorInParametersEstimation, createVolumesFromAlist\n",
    "from display import displayIntensityProfil, plotsegment, indexMse, indexGlobalMse, Histo\n",
    "import warnings\n",
    "warnings.filterwarnings(\"ignore\")\n",
    "\n",
    "\n",
    "\n",
    "#from kim_cm import"
   ]
  },
  {
   "cell_type": "code",
   "execution_count": 2,
   "id": "b6eedfd9-7b34-48bc-8030-7ce1d112c4d4",
   "metadata": {},
   "outputs": [],
   "source": [
    "img1 = nib.load('../donnee/simulation/dhcp_T2w_axiale_corrected.nii.gz')\n",
    "img2 = nib.load('../donnee/simulation/dhcp_T2w_cor_corrected.nii.gz')\n",
    "img3 = nib.load('../donnee/simulation/dhcp_T2w_sag_corrected.nii.gz')\n",
    "mask1 = nib.load('../donnee/simulation/mask_axiale_corrected.nii.gz')\n",
    "mask2 = nib.load('../donnee/simulation/mask_cor_corrected.nii.gz')\n",
    "mask3 = nib.load('../donnee/simulation/mask_sag_corrected.nii.gz')\n",
    "data = 'test_simul/'"
   ]
  },
  {
   "cell_type": "code",
   "execution_count": null,
   "id": "0af30e63-fb7d-4bbf-b33b-c69586070068",
   "metadata": {},
   "outputs": [],
   "source": []
  },
  {
   "cell_type": "code",
   "execution_count": 3,
   "id": "ce26664c-356c-40a0-94cb-cf9c1532c34f",
   "metadata": {},
   "outputs": [],
   "source": [
    "class Viewer3D:\n",
    "    \"\"\"\n",
    "    Viewer 3D is a class that alow to visualize the intersection between two orthogonal slices. You can select which image \n",
    "    you want to vizualise and which slice in each images. The intersection can be visualize with and without the mask\n",
    "    The class take three diffents 3D images as parameters : it can be 'axial', 'sagital' and 'coronal', and their associated\n",
    "    mask\n",
    "    \"\"\"\n",
    "    def __init__(self,img1,mask1,img2,mask2,img3,mask3,data): \n",
    "        \n",
    "        listSlice = []\n",
    "        loadSlice(img1,mask1,listSlice,0)\n",
    "        loadSlice(img2,mask2,listSlice,1)\n",
    "        loadSlice(img3,mask3,listSlice,2)\n",
    "        listSlice = normalization(listSlice)\n",
    "        \n",
    "        #attributes initialisation\n",
    "        \n",
    "        listtmp = listSlice.copy()\n",
    "        self.listSlice = listtmp\n",
    "        self.nbSlice=len(self.listSlice)\n",
    "        \n",
    "        self.images,mask = createVolumesFromAlist(self.listSlice.copy())\n",
    "        self.imgsize=[]\n",
    "        for i in range(len(self.images)):\n",
    "            self.imgsize.append(len(self.images[i]))\n",
    "        \n",
    "        self.choice = 'mask'\n",
    "        self.orientation1 = 0\n",
    "        self.orientation2 = 1\n",
    "        self.numImg1 = 0\n",
    "        self.numImg2 = 0\n",
    "        self.error = 'mse'\n",
    "        \n",
    "        self.ErrorEvolution = np.load(data + 'ErrorEvolution.npz')['arr_0'] #0\n",
    "        \n",
    "        #self.DiceEvolution=np.fromfile(data+'DiceEvolution.dat')\n",
    "        \n",
    "        self.nbit = len(self.ErrorEvolution)\n",
    "        print('nbit :',self.nbit)\n",
    "   \n",
    "        strEGE = data + 'EvolutionGridError.npz'\n",
    "        self.EvolutionGridError = np.load(strEGE)['arr_0'] #np.zeros((1,sizeList,sizeList))\n",
    "        display('Taille Evolution Grid Error :', self.EvolutionGridError.shape)\n",
    "        \n",
    "        strEGN = data + 'EvolutionGridNbpoint.npz'\n",
    "        self.EvolutionGridNbpoint = np.load(strEGN)['arr_0']  #np.zeros((1,sizeList,sizeList))\n",
    "        \n",
    "        strEGI= data + 'EvolutionGridInter.npz'\n",
    "        self.EvolutionGridInter = np.load(strEGI)['arr_0'] \n",
    "        \n",
    "        strEGU= data + 'EvolutionGridUnion.npz'\n",
    "        self.EvolutionGridUnion = np.load(strEGU)['arr_0'] \n",
    "        \n",
    "        #self.costAlreadyComputed = False\n",
    "        #nit=18\n",
    "        strEPA = data + 'EvolutionParameters.npz'\n",
    "        self.EvolutionParameters = np.load(strEPA)['arr_0'] \n",
    "        \n",
    "        self.iImg1 = 0\n",
    "        self.iImg2 = 0\n",
    "        \n",
    "        self.Nlast=self.EvolutionGridError[self.nbit-1,:,:].copy()\n",
    "        self.Dlast=self.EvolutionGridNbpoint[self.nbit-1,:,:]\n",
    "        self.lastMse=self.Nlast/self.Dlast\n",
    "        self.valMax=np.max(self.lastMse[np.where(~np.isnan(self.lastMse))])\n",
    "        \n",
    "        print(\"Cost Before Registration : \", self.ErrorEvolution[0])\n",
    "        print(\"Cost After Registration : \", self.ErrorEvolution[self.nbit-1])\n",
    "                \n",
    "        plt.plot(self.ErrorEvolution)\n",
    "        plt.title('Evolution of the global cost over %d iteration' %(self.nbit-1))\n",
    "        \n",
    "        self.listColormap=[];self.listErrorBefore=[];self.listErrorAfter=[]\n",
    "        for i1 in range(len(self.images)):\n",
    "            for i2 in range(len(self.images)):\n",
    "                if i1<i2:\n",
    "                    cmap='colormap%d%d.npz' %(i1,i2)\n",
    "                    display(cmap)\n",
    "                    ErrorBefore='ErrorBefore%d%d.npz' %(i1,i2)\n",
    "                    display(ErrorBefore)\n",
    "                    ErrorAfter='ErrorAfter%d%d.npz' %(i1,i2)\n",
    "                    display(ErrorAfter)\n",
    "                    display(data)\n",
    "                    filecmap=data+cmap\n",
    "                    fileErrorBefore=data+cmap\n",
    "                    fileErrorAfter=data+cmap\n",
    "                    colormap = np.load(filecmap)['arr_0'] \n",
    "                    ErrorBefore = np.load(fileErrorBefore)['arr_0'] \n",
    "                    ErrorAfter = np.load(fileErrorAfter)['arr_0']  \n",
    "                    self.listColormap.append(colormap)\n",
    "                    self.listErrorBefore.append(ErrorBefore)\n",
    "                    self.listErrorAfter.append(ErrorAfter)\n",
    "\n",
    "        widgets.interact(self.ErrorDisplay,\n",
    "            nit=widgets.IntSlider(\n",
    "            value=0,\n",
    "            min=0,\n",
    "            max=self.nbit-1,\n",
    "            description='Iteration',\n",
    "            disabled=False,\n",
    "            button_style='', \n",
    "            tooltip='Description',\n",
    "            icon='check' \n",
    "        ))\n",
    "                         \n",
    "        widgets.interact(self.ErrorParametersDisplay,\n",
    "            nit=widgets.IntSlider(\n",
    "            value=0,\n",
    "            min=0,\n",
    "            max=self.nbit-1,\n",
    "            description='Iteration',\n",
    "            disabled=False,\n",
    "            button_style='', \n",
    "            tooltip='Description',\n",
    "            icon='check' \n",
    "        ))\n",
    "        \n",
    "        self.displayErrorOfRegistration()\n",
    "        \n",
    "        #select the two images you are interested in\n",
    "        widgets.interact(\n",
    "        self.chooseImage12,orientation1 = widgets.Dropdown(\n",
    "        options=range(len(self.images)),\n",
    "        value=0,\n",
    "        description='Image 1:',\n",
    "        disabled=False,\n",
    "        ),\n",
    "        orientation2  = widgets.Dropdown(\n",
    "        options=range(len(self.images)),\n",
    "        value=0,\n",
    "        description='Image 2:',\n",
    "        disabled=False,\n",
    "        ))\n",
    "        \n",
    " \n",
    "        #choose the intersection with mask or without mask\n",
    "        widgets.interact(self.choicePlotSeg,\n",
    "        choice = widgets.Dropdown(\n",
    "        options=['mask','no_mask'],\n",
    "        value='mask',\n",
    "        description='mask ?',\n",
    "        disabled=False,\n",
    "        ))\n",
    "        \n",
    "        \n",
    "        widgets.interact(self.choice_error,\n",
    "        error = widgets.Dropdown(\n",
    "        options=['dice','mse'],\n",
    "        value='mse',\n",
    "        description='error ?',\n",
    "        disabled=False,\n",
    "        ))\n",
    "        \n",
    "        \n",
    "        #display lines of intersection intersection on images\n",
    "        widgets.interact(self.plotSeg,\n",
    "        go=widgets.ToggleButton(\n",
    "        value=False,\n",
    "        description='Ok!',\n",
    "        disabled=False,\n",
    "        button_style='', \n",
    "        tooltip='Description',\n",
    "        icon='check'\n",
    "        ))\n",
    "        \n",
    "   \n",
    "    \"\"\"\n",
    "    Method of the class Viewer3D : choose two images of interest\n",
    "    \"\"\"\n",
    "    def chooseImage12(self,orientation1,orientation2):\n",
    "        \n",
    "        self.orientation1 = orientation1\n",
    "        self.orientation2 = orientation2\n",
    "        \n",
    "        data_img1=[];data_img2=[]\n",
    "        for i in range(len(self.listSlice)):\n",
    "            if self.orientation1==i: \n",
    "                data_img1=self.images[i]\n",
    "            if self.orientation2==i:\n",
    "                data_img2=self.images[i]\n",
    "                \n",
    "        nbImage1 = len(data_img1)\n",
    "        nbImage2 = len(data_img2)\n",
    "        ListImage1 = range(0,nbImage1)\n",
    "        ListImage2 = range(0,nbImage2)\n",
    "        \n",
    "        widgets.interact(\n",
    "        self.chooseSlice12,numImg1 = widgets.Dropdown(\n",
    "        options=ListImage1,\n",
    "        description='Slice in 1:',\n",
    "        disabled=False,\n",
    "        ),\n",
    "\n",
    "        numImg2 = widgets.Dropdown(\n",
    "        options=ListImage2,\n",
    "        description='Slice in 2:',\n",
    "        disabled=False,\n",
    "        ))    \n",
    "   \n",
    "\n",
    "    \"\"\"\n",
    "    Method of the class Viewer3D, choose 2 slices of interest\n",
    "    \"\"\"\n",
    "    def chooseSlice12(self,numImg1,numImg2):\n",
    "        \n",
    "        self.iImg1 = numImg1\n",
    "        self.iImg2 = numImg2\n",
    "        \n",
    "        for i in range(len(self.images)):\n",
    "            if self.orientation1==i:\n",
    "                n=i-1; sum=0;\n",
    "                while n>=0:\n",
    "                    sum=sum+self.imgsize[n]\n",
    "                    n=n-1\n",
    "                self.numImg1 = numImg1 + sum\n",
    "            if self.orientation2==i:\n",
    "                n=i-1; sum=0;\n",
    "                while n>=0:\n",
    "                    sum=sum+self.imgsize[n]\n",
    "                    n=n-1\n",
    "                self.numImg2 = numImg2 + sum\n",
    "            \n",
    "        \n",
    "    \"\"\"\n",
    "    Method of the class Viewer3D, choose the segment of interest\n",
    "    \"\"\"\n",
    "    def choicePlotSeg(self,choice):\n",
    "            self.choice=choice\n",
    "    \n",
    "    \"\"\"\n",
    "    Method of the class Viewer3D, choose the type of error\n",
    "    \"\"\"\n",
    "    def choice_error(self,error):\n",
    "        self.error = error\n",
    "    \n",
    "    \n",
    "    \"\"\"\n",
    "    Method of the class Viewer3D, display the evolution of the error in the choosen iteration\n",
    "    \"\"\"\n",
    "    def ErrorDisplay(self,nit):\n",
    "            \n",
    "            fig = plt.figure(figsize=(8, 8))\n",
    "            cx  = plt.subplot()\n",
    "            N = self.EvolutionGridError[nit,:,:].copy()\n",
    "            D = self.EvolutionGridNbpoint[nit,:,:].copy()\n",
    "            MSE = N/D\n",
    "            im = cx.imshow(MSE,vmin=0,vmax=self.valMax)\n",
    "            cbar = fig.colorbar(im,ax=cx)\n",
    "            for i in range(1,len(self.images)):\n",
    "                n=i-1; sum=0;\n",
    "                while n>=0:\n",
    "                    sum=sum+self.imgsize[n]\n",
    "                    n=n-1\n",
    "                line=sum\n",
    "                cx.hlines(y=line,xmin=0,xmax=self.nbSlice-1,lw=2,color='r')\n",
    "                cx.vlines(x=line,ymin=0,ymax=self.nbSlice-1,lw=2,color='r')\n",
    "            #plt.show()\n",
    "            \n",
    "    \"\"\"\n",
    "    Method of the class Viwer3D, display the error in parameters estimation in case of a simulation\n",
    "    \"\"\"\n",
    "    def ErrorParametersDisplay(self,nit):\n",
    "        \n",
    "        NBPOINT_GLOB, ERROR_GLOB = indexGlobalMse(self.Nlast,self.Dlast) \n",
    "        lastmse=NBPOINT_GLOB/ERROR_GLOB\n",
    "        nbpoint, error=indexGlobalMse(self.EvolutionGridError[nit,:,:].copy(),self.EvolutionGridNbpoint[nit,:,:].copy())\n",
    "        cmse=error/nbpoint\n",
    "        b=np.where(np.isnan(cmse))\n",
    "        fig = plt.figure(figsize=(10, 10))\n",
    "        im=plt.scatter(range(self.nbSlice),self.EvolutionParameters[self.nbit-1,:,1],marker='.',c=lastmse)\n",
    "        ax1=plt.subplot(3,2,1)\n",
    "        ax1.scatter(range(self.nbSlice),self.EvolutionParameters[nit,:,0],marker='.',c=cmse) #[nit,0,:]\n",
    "        ax1.set_title(\"Angle along x\")\n",
    "        ax1.set_xlabel(\"Number of slice\")\n",
    "        cbar = fig.colorbar(im,ax=ax1)\n",
    "        ax2=plt.subplot(3,2,2)\n",
    "        ax2.scatter(range(self.nbSlice),self.EvolutionParameters[nit,:,1],marker='.',c=cmse) #[nit,1,:]\n",
    "        ax2.set_title(\"Angle along y\")\n",
    "        ax2.set_xlabel(\"Number of slice\")\n",
    "        cbar=fig.colorbar(im,ax=ax2)\n",
    "        ax3=plt.subplot(3,2,3)\n",
    "        ax3.scatter(range(self.nbSlice),self.EvolutionParameters[nit,:,2],marker='.',c=cmse) #[nit,2,:]\n",
    "        ax3.set_title(\"Angle along z\")\n",
    "        ax3.set_xlabel(\"Number of slice\")\n",
    "        cbar = fig.colorbar(im,ax=ax3)\n",
    "        ax4=plt.subplot(3,2,4)\n",
    "        ax4.scatter(range(self.nbSlice),self.EvolutionParameters[nit,:,3],marker='.',c=cmse) #[nit,3,:]\n",
    "        ax4.set_title(\"Translation along x\")\n",
    "        ax4.set_xlabel(\"Number of slice\")\n",
    "        cbar = fig.colorbar(im,ax=ax4)\n",
    "        ax5=plt.subplot(3,2,5)\n",
    "        ax5.scatter(range(self.nbSlice),self.EvolutionParameters[nit,:,4],marker='.',c=cmse) #[nit,4,:]\n",
    "        ax5.set_title(\"Translation along y\")\n",
    "        ax5.set_xlabel(\"Number of slice\")\n",
    "        cbar = fig.colorbar(im,ax=ax5)\n",
    "        ax6=plt.subplot(3,2,6)\n",
    "        ax6.scatter(range(self.nbSlice),self.EvolutionParameters[nit,:,5],marker='.',c=cmse) #[nit,5,:]\n",
    "        ax6.set_title(\"Translation along z\")\n",
    "        ax6.set_xlabel(\"Number of slice\")\n",
    "        cbar=fig.colorbar(im,ax=ax6)\n",
    "        plt.title('Visualisation of the parameters for each slice at iteration %d' %(nit))\n",
    "        fig.tight_layout()\n",
    "        \n",
    "    \"\"\"\n",
    "    Method of the class Viewer3D, display the evolution of the intersection between two slices\n",
    "    \"\"\"       \n",
    "    def DisplayProfil(self,nit):\n",
    "            \n",
    "            listIteration = self.listSlice.copy()\n",
    "\n",
    "            parameters = self.EvolutionParameters[nit,:,:].copy()\n",
    "         \n",
    "            i_slice = 0\n",
    "            for s in listIteration:\n",
    "                x = parameters[i_slice,:]\n",
    "                s.set_parameters(x)\n",
    "                i_slice=i_slice+1\n",
    "        \n",
    "            slice_img1 = listIteration[self.numImg1]\n",
    "            slice_img2 = listIteration[self.numImg2]\n",
    "            \n",
    "            image1=slice_img1.get_slice().get_fdata();image2=slice_img2.get_slice().get_fdata()\n",
    "            M1=slice_img1.get_transfo();M2=slice_img2.get_transfo();res=min(slice_img1.get_slice().header.get_zooms())\n",
    "            pointImg1,pointImg2,nbpoint,ok = commonSegment(image1,M1,image2,M2,res)\n",
    "            nbpoint=np.int32(nbpoint[0,0]);ok=np.int32(ok[0,0])\n",
    "            \n",
    "            if ok>0:\n",
    "                val1,index1,nbpointSlice1=sliceProfil(slice_img1, pointImg1, nbpoint)\n",
    "                val2,index2,nbpointSlice2=sliceProfil(slice_img2, pointImg2, nbpoint)\n",
    "                commonVal1,commonVal2,index=commonProfil(val1, index1, val2, index2,nbpoint)\n",
    "                displayIntensityProfil(commonVal1,index1,commonVal2,index2,index)\n",
    "\n",
    "            \n",
    "            #display the intersection segment on the image, with ot without the mask\n",
    "            fig = plt.figure(figsize=(10, 10))\n",
    "            ax1=plt.subplot(1,2,1)\n",
    "            ax2=plt.subplot(1,2,2)\n",
    "            \n",
    "            if self.choice=='no_mask':\n",
    "                title1 = 'Intersection segment for image %s without mask, slice %d' %(self.orientation1,self.numImg1)\n",
    "                title2 = 'Intersection segment for image %s without mask, slice %d'%(self.orientation2,self.iImg2)\n",
    "                plotsegment(slice_img1,pointImg1,ok,nbpoint,ax1,title1,mask=np.nan,index=np.nan,nbpointSlice=None)\n",
    "                plotsegment(slice_img2,pointImg2,ok,nbpoint,ax2,title2,mask=np.nan,index=np.nan,nbpointSlice=None)\n",
    "                fig.tight_layout()\n",
    "                \n",
    "            elif self.choice=='mask':\n",
    "                title1 = 'Intersection segment for image %s with mask,slice %d' %(self.orientation1,self.iImg1)\n",
    "                title2 = 'Intersection segment for image %s with mask,slice %d' %(self.orientation2,self.iImg2)\n",
    "                plotsegment(slice_img1,pointImg1,ok,nbpoint,ax1,title1,mask=slice_img1.get_mask(),index=index,nbpointSlice=nbpointSlice1)\n",
    "                plotsegment(slice_img2,pointImg2,ok,nbpoint,ax2,title2,mask=slice_img2.get_mask(),index=index,nbpointSlice=nbpointSlice2) \n",
    "                fig.tight_layout()\n",
    "\n",
    "        \n",
    "    def displayErrorOfRegistration(self): \n",
    "            \n",
    "            div=20;i=0\n",
    "            for i1 in range(len(self.images)):\n",
    "                for i2 in range(len(self.images)):\n",
    "                    if i1<i2:\n",
    "                        ErrorBefore = self.listErrorBefore[i][0::div]\n",
    "                        ErrorAfter = self.listErrorAfter[i][0::div]\n",
    "                        colormap = self.listColormap[i][0::div]\n",
    "                        i=i+1   \n",
    "                        fig, axe = plt.subplots()\n",
    "                        im = axe.scatter(ErrorAfter,ErrorBefore,marker='.',c=colormap)\n",
    "                        cbar = fig.colorbar(im,ax=axe)\n",
    "                        plt.ylabel('before reg')\n",
    "                        plt.xlabel('after reg')\n",
    "                        title='%d and %d' %(i1,i2)\n",
    "                        plt.title(title) \n",
    "\n",
    "                        plt.figure()\n",
    "                        plt.subplot(121)\n",
    "                        plt.hist(ErrorBefore,range=(min(ErrorBefore),max(ErrorBefore)),bins='auto')\n",
    "                        title='%d and %d, \\n before registration' %(i1,i2)\n",
    "                        plt.title(title)\n",
    "                        plt.subplot(122)\n",
    "                        plt.hist(ErrorAfter,range=(min(ErrorAfter),max(ErrorAfter)),bins='auto')\n",
    "\n",
    "                        mean_before_ac = np.mean(ErrorBefore)\n",
    "                        std_before_ac = np.std(ErrorBefore)\n",
    "                        mean_after_ac = np.mean(ErrorAfter)\n",
    "                        std_after_ac = np.std(ErrorAfter)\n",
    "\n",
    "                        strbr = 'before registration : %f +/- %f'  %(mean_before_ac,std_before_ac)\n",
    "                        display(strbr)\n",
    "                        strar = 'after registration : %f +/- %f' %(mean_after_ac,std_after_ac)\n",
    "                        display(strar)\n",
    "    \n",
    "    \n",
    "    \"\"\"\n",
    "    Method of the class Viewer3D that gives the error and the number of point for each slices\n",
    "    \"\"\"\n",
    "    def DisplayAllErrors(self,nit):\n",
    "            \n",
    "            #compute the error : case error is mse\n",
    "            if self.error=='mse':\n",
    "                \n",
    "                Num=self.EvolutionGridError[nit,:,:].copy()\n",
    "                Denum=self.EvolutionGridNbpoint[nit,:,:].copy()\n",
    "                LastNum=self.EvolutionGridError[5,:,:].copy()\n",
    "                LastDenum=self.EvolutionGridNbpoint[5,:,:].copy()\n",
    "                NumImg1Row=self.EvolutionGridError[nit,self.numImg1,:].copy();NumImg1Col=self.EvolutionGridError[nit,:,self.numImg1].copy()\n",
    "                DenumImg1Row=self.EvolutionGridNbpoint[nit,self.numImg1,:].copy();DenumImg1Col=self.EvolutionGridNbpoint[nit,:,self.numImg1].copy()\n",
    "                NumImg2Row=self.EvolutionGridError[nit,self.numImg2,:].copy();NumImg2Col=self.EvolutionGridError[nit,:,self.numImg2].copy()\n",
    "                DenumImg2Row=self.EvolutionGridNbpoint[nit,self.numImg2,:].copy();DenumImg2Col=self.EvolutionGridNbpoint[nit,:,self.numImg2].copy()\n",
    "                \n",
    "            if self.error=='dice':\n",
    "                \n",
    "                Num=self.EvolutionGridInter[nit,:,:].copy()\n",
    "                Denum=self.EvolutionGridUnion[nit,:,:].copy()\n",
    "                NumImg1Row=self.EvolutionGridInter[nit,self.numImg1,:].copy();NumImg1Col=self.EvolutionGridInter[nit,:,self.numImg1].copy()\n",
    "                DenumImg1Row=self.EvolutionGridUnion[nit,self.numImg1,:].copy();DenumImg1Col=self.EvolutionGridUnion[nit,:,self.numImg1].copy()\n",
    "                NumImg2Row=self.EvolutionGridInter[nit,self.numImg2,:].copy();NumImg2Col=self.EvolutionGridInter[nit,:,self.numImg2].copy()\n",
    "                DenumImg2Row=self.EvolutionGridUnion[nit,:,self.numImg2].copy();DenumImg2Col=self.EvolutionGridUnion[nit,:,self.numImg2].copy()\n",
    "                \n",
    "            indexError1, indexNbpoint1=indexMse(Num,Denum,self.numImg1) \n",
    "            indexError2, indexNbpoint2=indexMse(Num,Denum,self.numImg2)\n",
    "                \n",
    "            size_indexError1=indexError1.shape[0]\n",
    "            size_indexError2=indexError2.shape[0]\n",
    "            indexMse1=np.zeros(size_indexError1)\n",
    "            indexMse2=np.zeros(size_indexError2)\n",
    "\n",
    "            for i in range(size_indexError1):\n",
    "                indexMse1[i]=indexError1[i]/indexNbpoint1[i]\n",
    "            for i in range(size_indexError2):\n",
    "                indexMse2[i]=indexError2[i]/indexNbpoint2[i]\n",
    "\n",
    "            maxIndex=max(self.numImg1,self.numImg2)\n",
    "            minIndex=min(self.numImg1,self.numImg2)\n",
    "            error=self.EvolutionGridError[nit,maxIndex,minIndex].copy()\n",
    "            commonPoint=self.EvolutionGridNbpoint[nit,maxIndex,minIndex].copy()\n",
    "                \n",
    "\n",
    "            MSEloc=error/commonPoint\n",
    "                \n",
    "\n",
    "            sumError1=sum(NumImg1Row)  + sum(NumImg1Col)\n",
    "            sumNbpoint1=sum(DenumImg1Row) + sum(DenumImg1Col)\n",
    "            MSEGlobImg1=sumError1/sumNbpoint1\n",
    "\n",
    "            sumError2=sum(NumImg2Row)  + sum(NumImg2Col)\n",
    "            sumNbpoint2=sum(DenumImg2Row) + sum(DenumImg2Col)\n",
    "            MSEGlobImg2=sumError2/sumNbpoint2\n",
    "                \n",
    "\n",
    "            NBPOINT_GLOB, ERROR_GLOB = indexGlobalMse(Num,Denum) \n",
    "            LAST_POINT, LAST_ERROR = indexGlobalMse(LastNum,LastDenum)\n",
    "            \n",
    "            size_error=NBPOINT_GLOB.shape[0]\n",
    "            MSE_GLOB=np.zeros(size_error)\n",
    "            LAST_MSE=np.zeros(size_error)\n",
    "            display('size_error', size_error)\n",
    "\n",
    "            for i in range(size_error):\n",
    "                MSE_GLOB[i] = ERROR_GLOB[i]/NBPOINT_GLOB[i]\n",
    "                LAST_MSE[i] = LAST_ERROR[i]/LAST_POINT[i]\n",
    "            \n",
    "            threshold=1.25*np.median(LAST_MSE[~np.isnan(LAST_MSE)])\n",
    "            display(threshold)\n",
    "            \n",
    "            if  np.any(~np.isnan(indexMse1)):\n",
    "                fig=plt.figure(figsize=(30, 8))\n",
    "                ax1=plt.subplot(1,2,1)\n",
    "                ax1.set_ylabel('MSE')\n",
    "                ax1.scatter(range(self.nbSlice),indexMse1)\n",
    "                ax1.hlines(y=threshold,xmin=0,xmax=self.nbSlice-1,lw=2,color='r')\n",
    "                ax2 = ax1.twinx()\n",
    "                ax2.scatter(range(self.nbSlice),indexNbpoint1,c='orange')\n",
    "                ax2.set_ylabel('Nbpoint')\n",
    "                ax1.set_title('MSE between slice %d in image %s and its orthogonal slices' %(self.iImg1,self.orientation1))\n",
    "                ax1.set_xlabel('Slices')\n",
    "                fig.tight_layout()\n",
    "                indexHistoMse1=(indexMse1[np.where(~np.isnan(indexMse1))])\n",
    "                ax3=plt.subplot(1,2,2)\n",
    "                histoMse=ax3.hist(indexHistoMse1)\n",
    "                ax3.set_title('Histogram of the MSE between slice %d in image %s and its orthogonal slices' %(self.iImg1,self.orientation1))\n",
    "                fig.tight_layout()\n",
    "\n",
    "            if  np.any(~np.isnan(indexMse2)):   \n",
    "                fig=plt.figure(figsize=(30, 8))\n",
    "                ax1=plt.subplot(1,2,1)\n",
    "                ax1.set_ylabel('MSE')\n",
    "                ax1.scatter(range(self.nbSlice),indexMse2)\n",
    "                ax1.hlines(y=threshold,xmin=0,xmax=self.nbSlice-1,lw=2,color='r')\n",
    "                ax2 = ax1.twinx()\n",
    "                ax2.scatter(range(self.nbSlice),indexNbpoint2,c='orange')\n",
    "                ax2.set_ylabel('Nbpoint')\n",
    "                plt.title('MSE between slice %d in image %s and its orthogonal slices' %(self.iImg2,self.orientation2))\n",
    "                fig.tight_layout()\n",
    "                indexHistoMse2=(indexMse2[np.where(~np.isnan(indexMse2))])\n",
    "                ax3=plt.subplot(1,2,2)\n",
    "                histoMse2=ax3.hist(indexHistoMse2)\n",
    "                ax3.set_title('Histogram of the MSE between slice %d in image %s and its orthogonal slices' %(self.iImg2,self.orientation2))\n",
    "                fig.tight_layout()\n",
    "\n",
    "            if  np.any(~np.isnan(MSE_GLOB)):\n",
    "                fig=plt.figure(figsize=(30, 8))\n",
    "                ax1=plt.subplot(1,2,1)\n",
    "                ax1.set_ylabel('MSE')\n",
    "                ax1.scatter(range(self.nbSlice),MSE_GLOB)\n",
    "                ax1.hlines(y=threshold,xmin=0,xmax=self.nbSlice-1,lw=2,color='r')\n",
    "                ax2 = ax1.twinx()\n",
    "                ax2.scatter(range(self.nbSlice),NBPOINT_GLOB,c='orange')\n",
    "                ax2.set_ylabel('Nbpoint')\n",
    "                plt.title('Global MSE between each slices')\n",
    "                fig.tight_layout()\n",
    "                ax3=plt.subplot(1,2,2)\n",
    "                HistoMSE_GLOB=(MSE_GLOB[np.where(~np.isnan(MSE_GLOB))])\n",
    "                histoGlobal=ax3.hist(HistoMSE_GLOB)\n",
    "                ax3.set_title('Histogram of the Global MSE')\n",
    "                fig.tight_layout()\n",
    "                    \n",
    "    \n",
    "    \"\"\"\n",
    "    Plot the segment of intersection in two images\n",
    "    \"\"\"\n",
    "    def plotSeg(self,go):\n",
    "        \n",
    "        if go==True:\n",
    "                 \n",
    "                \n",
    "            widgets.interact(self.DisplayProfil,\n",
    "                    nit=widgets.IntSlider(\n",
    "                    value=0,\n",
    "                    min=0,\n",
    "                    max=self.nbit-1,\n",
    "                    description='Iteration',\n",
    "                    disabled=False,\n",
    "                    button_style='',\n",
    "                    tooltip='Description',\n",
    "                    icon='check'\n",
    "                )) \n",
    "               \n",
    "            widgets.interact(self.DisplayAllErrors,\n",
    "                    nit=widgets.IntSlider(\n",
    "                    value=0,\n",
    "                    min=0,\n",
    "                    max=self.nbit-1,\n",
    "                    description='Iteration',\n",
    "                    disabled=False,\n",
    "                    button_style='', \n",
    "                    tooltip='Description',\n",
    "                    icon='check' \n",
    "                )) \n",
    "                \n",
    "            "
   ]
  },
  {
   "cell_type": "code",
   "execution_count": 4,
   "id": "a492a65c",
   "metadata": {},
   "outputs": [
    {
     "name": "stdout",
     "output_type": "stream",
     "text": [
      "nbit : 11\n"
     ]
    },
    {
     "data": {
      "text/plain": [
       "'Taille Evolution Grid Error :'"
      ]
     },
     "metadata": {},
     "output_type": "display_data"
    },
    {
     "data": {
      "text/plain": [
       "(11, 95, 95)"
      ]
     },
     "metadata": {},
     "output_type": "display_data"
    },
    {
     "name": "stdout",
     "output_type": "stream",
     "text": [
      "Cost Before Registration :  1.1960966572427825\n",
      "Cost After Registration :  0.18858614848047642\n"
     ]
    },
    {
     "data": {
      "text/plain": [
       "'colormap01.npz'"
      ]
     },
     "metadata": {},
     "output_type": "display_data"
    },
    {
     "data": {
      "text/plain": [
       "'ErrorBefore01.npz'"
      ]
     },
     "metadata": {},
     "output_type": "display_data"
    },
    {
     "data": {
      "text/plain": [
       "'ErrorAfter01.npz'"
      ]
     },
     "metadata": {},
     "output_type": "display_data"
    },
    {
     "data": {
      "text/plain": [
       "'test_simul/'"
      ]
     },
     "metadata": {},
     "output_type": "display_data"
    },
    {
     "data": {
      "text/plain": [
       "'colormap02.npz'"
      ]
     },
     "metadata": {},
     "output_type": "display_data"
    },
    {
     "data": {
      "text/plain": [
       "'ErrorBefore02.npz'"
      ]
     },
     "metadata": {},
     "output_type": "display_data"
    },
    {
     "data": {
      "text/plain": [
       "'ErrorAfter02.npz'"
      ]
     },
     "metadata": {},
     "output_type": "display_data"
    },
    {
     "data": {
      "text/plain": [
       "'test_simul/'"
      ]
     },
     "metadata": {},
     "output_type": "display_data"
    },
    {
     "data": {
      "text/plain": [
       "'colormap12.npz'"
      ]
     },
     "metadata": {},
     "output_type": "display_data"
    },
    {
     "data": {
      "text/plain": [
       "'ErrorBefore12.npz'"
      ]
     },
     "metadata": {},
     "output_type": "display_data"
    },
    {
     "data": {
      "text/plain": [
       "'ErrorAfter12.npz'"
      ]
     },
     "metadata": {},
     "output_type": "display_data"
    },
    {
     "data": {
      "text/plain": [
       "'test_simul/'"
      ]
     },
     "metadata": {},
     "output_type": "display_data"
    },
    {
     "data": {
      "image/png": "[encoded data removed]",
      "text/plain": [
       "<Figure size 432x288 with 1 Axes>"
      ]
     },
     "metadata": {
      "needs_background": "light"
     },
     "output_type": "display_data"
    },
    {
     "data": {
      "application/vnd.jupyter.widget-view+json": {
       "model_id": "0381ce8cf6f246238f3be334493f9e28",
       "version_major": 2,
       "version_minor": 0
      },
      "text/plain": [
       "interactive(children=(IntSlider(value=0, description='Iteration', max=10), Output()), _dom_classes=('widget-in…"
      ]
     },
     "metadata": {},
     "output_type": "display_data"
    },
    {
     "data": {
      "application/vnd.jupyter.widget-view+json": {
       "model_id": "be5b08d3f27b451d86575cc6f4ff9929",
       "version_major": 2,
       "version_minor": 0
      },
      "text/plain": [
       "interactive(children=(IntSlider(value=0, description='Iteration', max=10), Output()), _dom_classes=('widget-in…"
      ]
     },
     "metadata": {},
     "output_type": "display_data"
    },
    {
     "data": {
      "text/plain": [
       "'before registration : 3.966814 +/- 2.735744'"
      ]
     },
     "metadata": {},
     "output_type": "display_data"
    },
    {
     "data": {
      "text/plain": [
       "'after registration : 3.966814 +/- 2.735744'"
      ]
     },
     "metadata": {},
     "output_type": "display_data"
    },
    {
     "data": {
      "text/plain": [
       "'before registration : 3.955752 +/- 2.736639'"
      ]
     },
     "metadata": {},
     "output_type": "display_data"
    },
    {
     "data": {
      "text/plain": [
       "'after registration : 3.955752 +/- 2.736639'"
      ]
     },
     "metadata": {},
     "output_type": "display_data"
    },
    {
     "data": {
      "text/plain": [
       "'before registration : 3.800709 +/- 3.632737'"
      ]
     },
     "metadata": {},
     "output_type": "display_data"
    },
    {
     "data": {
      "text/plain": [
       "'after registration : 3.800709 +/- 3.632737'"
      ]
     },
     "metadata": {},
     "output_type": "display_data"
    },
    {
     "data": {
      "image/png": "[encoded data removed]",
      "text/plain": [
       "<Figure size 432x288 with 2 Axes>"
      ]
     },
     "metadata": {
      "needs_background": "light"
     },
     "output_type": "display_data"
    },
    {
     "data": {
      "image/png": "[encoded data removed]",
      "text/plain": [
       "<Figure size 432x288 with 2 Axes>"
      ]
     },
     "metadata": {
      "needs_background": "light"
     },
     "output_type": "display_data"
    },
    {
     "data": {
      "image/png": "[encoded data removed]",
      "text/plain": [
       "<Figure size 432x288 with 2 Axes>"
      ]
     },
     "metadata": {
      "needs_background": "light"
     },
     "output_type": "display_data"
    },
    {
     "data": {
      "image/png": "[encoded data removed]",
      "text/plain": [
       "<Figure size 432x288 with 2 Axes>"
      ]
     },
     "metadata": {
      "needs_background": "light"
     },
     "output_type": "display_data"
    },
    {
     "data": {
      "image/png": "[encoded data removed]",
      "text/plain": [
       "<Figure size 432x288 with 2 Axes>"
      ]
     },
     "metadata": {
      "needs_background": "light"
     },
     "output_type": "display_data"
    },
    {
     "data": {
      "image/png": "[encoded data removed]",
      "text/plain": [
       "<Figure size 432x288 with 2 Axes>"
      ]
     },
     "metadata": {
      "needs_background": "light"
     },
     "output_type": "display_data"
    },
    {
     "data": {
      "application/vnd.jupyter.widget-view+json": {
       "model_id": "c8765c18f98e49ac8b7144d29dbaadaf",
       "version_major": 2,
       "version_minor": 0
      },
      "text/plain": [
       "interactive(children=(Dropdown(description='Image 1:', options=(0, 1, 2), value=0), Dropdown(description='Imag…"
      ]
     },
     "metadata": {},
     "output_type": "display_data"
    },
    {
     "data": {
      "application/vnd.jupyter.widget-view+json": {
       "model_id": "91c2a2ab7a784b3c937f9b7e455d6e67",
       "version_major": 2,
       "version_minor": 0
      },
      "text/plain": [
       "interactive(children=(Dropdown(description='mask ?', options=('mask', 'no_mask'), value='mask'), Output()), _d…"
      ]
     },
     "metadata": {},
     "output_type": "display_data"
    },
    {
     "data": {
      "application/vnd.jupyter.widget-view+json": {
       "model_id": "3010aa00eb394c79992ff626630ffb5a",
       "version_major": 2,
       "version_minor": 0
      },
      "text/plain": [
       "interactive(children=(Dropdown(description='error ?', index=1, options=('dice', 'mse'), value='mse'), Output()…"
      ]
     },
     "metadata": {},
     "output_type": "display_data"
    },
    {
     "data": {
      "application/vnd.jupyter.widget-view+json": {
       "model_id": "6cddb04918d041109ea7518da7f5a7db",
       "version_major": 2,
       "version_minor": 0
      },
      "text/plain": [
       "interactive(children=(ToggleButton(value=False, description='Ok!', icon='check', tooltip='Description'), Outpu…"
      ]
     },
     "metadata": {},
     "output_type": "display_data"
    },
    {
     "data": {
      "text/plain": [
       "<__main__.Viewer3D at 0x7f3014c6a7c0>"
      ]
     },
     "execution_count": 4,
     "metadata": {},
     "output_type": "execute_result"
    }
   ],
   "source": [
    "Viewer3D(img1,mask1,img2,mask2,img3,mask3,data)"
   ]
  },
  {
   "cell_type": "code",
   "execution_count": null,
   "id": "a84cde61",
   "metadata": {},
   "outputs": [],
   "source": []
  },
  {
   "cell_type": "code",
   "execution_count": null,
   "id": "c8276464",
   "metadata": {},
   "outputs": [],
   "source": []
  },
  {
   "cell_type": "code",
   "execution_count": null,
   "id": "3187c090",
   "metadata": {},
   "outputs": [],
   "source": []
  },
  {
   "cell_type": "code",
   "execution_count": null,
   "id": "4ea633ff",
   "metadata": {},
   "outputs": [],
   "source": []
  },
  {
   "cell_type": "code",
   "execution_count": null,
   "id": "7421ed6d",
   "metadata": {},
   "outputs": [],
   "source": []
  },
  {
   "cell_type": "code",
   "execution_count": null,
   "id": "d2b30b09",
   "metadata": {},
   "outputs": [],
   "source": []
  },
  {
   "cell_type": "code",
   "execution_count": null,
   "id": "be47a590",
   "metadata": {
    "scrolled": true
   },
   "outputs": [],
   "source": [
    "\n"
   ]
  },
  {
   "cell_type": "code",
   "execution_count": 5,
   "id": "68e40750",
   "metadata": {},
   "outputs": [],
   "source": [
    "#https://github.com/mohakpatel/ImageSliceViewer3D/blob/master/ImageSliceViewer3D.ipynb "
   ]
  },
  {
   "cell_type": "code",
   "execution_count": null,
   "id": "bcadeea4",
   "metadata": {},
   "outputs": [],
   "source": []
  },
  {
   "cell_type": "code",
   "execution_count": null,
   "id": "1db60646",
   "metadata": {},
   "outputs": [],
   "source": []
  },
  {
   "cell_type": "code",
   "execution_count": null,
   "id": "6cda392f",
   "metadata": {},
   "outputs": [],
   "source": []
  },
  {
   "cell_type": "code",
   "execution_count": null,
   "id": "43d8d194",
   "metadata": {},
   "outputs": [],
   "source": []
  },
  {
   "cell_type": "code",
   "execution_count": null,
   "id": "aafaf745",
   "metadata": {},
   "outputs": [],
   "source": []
  },
  {
   "cell_type": "code",
   "execution_count": null,
   "id": "4ce7ab64",
   "metadata": {},
   "outputs": [],
   "source": []
  },
  {
   "cell_type": "code",
   "execution_count": null,
   "id": "90606e66",
   "metadata": {},
   "outputs": [],
   "source": []
  },
  {
   "cell_type": "code",
   "execution_count": null,
   "id": "8d56790e",
   "metadata": {},
   "outputs": [],
   "source": []
  }
 ],
 "metadata": {
  "kernelspec": {
   "display_name": "Python 3",
   "language": "python",
   "name": "python3"
  },
  "language_info": {
   "codemirror_mode": {
    "name": "ipython",
    "version": 3
   },
   "file_extension": ".py",
   "mimetype": "text/x-python",
   "name": "python",
   "nbconvert_exporter": "python",
   "pygments_lexer": "ipython3",
   "version": "3.8.8"
  },
  "toc-autonumbering": true,
  "toc-showcode": true,
  "toc-showmarkdowntxt": false,
  "toc-showtags": false
 },
 "nbformat": 4,
 "nbformat_minor": 5
}
