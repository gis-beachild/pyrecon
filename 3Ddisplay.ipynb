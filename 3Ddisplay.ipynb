{
 "cells": [
  {
   "cell_type": "code",
   "execution_count": 1,
   "id": "a5ce6ea5",
   "metadata": {},
   "outputs": [],
   "source": [
    "import nibabel as nib\n",
    "import ipywidgets as widgets\n",
    "from ipywidgets import interact\n",
    "import matplotlib.pyplot as plt\n",
    "from IPython.display import display\n",
    "from kim_cm import commonSegment,sliceProfil,commonProfil,indexMse,loadSlice\n",
    "from sliceObject import SliceObject\n",
    "from display import plotsegment,displayIntensityProfil\n",
    "import numpy as np"
   ]
  },
  {
   "cell_type": "code",
   "execution_count": 2,
   "id": "a404e33c",
   "metadata": {},
   "outputs": [],
   "source": [
    "img1 = nib.load('../donnee/export_chloe/sub-0903_ses-1040/sub-0903_ses-1040_haste_no_pace_ax_12.nii.gz')\n",
    "img2 = nib.load('../donnee/export_chloe/sub-0903_ses-1040/sub-0903_ses-1040_haste_no_pace_cor_9.nii.gz')\n",
    "img3 = nib.load('../donnee/export_chloe/sub-0903_ses-1040/sub-0903_ses-1040_haste_no_pace_sag_11.nii.gz')\n",
    "mask1 = nib.load('../donnee/export_chloe/sub-0903_ses-1040/brain_masks/sub-0903_ses-1040_haste_no_pace_ax_12.nii.gz')\n",
    "mask2 = nib.load('../donnee/export_chloe/sub-0903_ses-1040/brain_masks/sub-0903_ses-1040_haste_no_pace_cor_9.nii.gz')\n",
    "mask3 = nib.load('../donnee/export_chloe/sub-0903_ses-1040/brain_masks/sub-0903_ses-1040_haste_no_pace_sag_11.nii.gz')"
   ]
  },
  {
   "cell_type": "code",
   "execution_count": null,
   "id": "66f249a7",
   "metadata": {},
   "outputs": [],
   "source": []
  },
  {
   "cell_type": "code",
   "execution_count": null,
   "id": "be6c9407",
   "metadata": {},
   "outputs": [],
   "source": []
  },
  {
   "cell_type": "code",
   "execution_count": 3,
   "id": "042dacf4",
   "metadata": {},
   "outputs": [],
   "source": [
    "class Viewer3D:\n",
    "    \"\"\"\n",
    "    Viewer 3D is a class that alow to visualize the intersection between two orthogonal slices. You can select which image \n",
    "    you want to vizualise and which slice in each images. The intersection can be visualize with and without the mask\n",
    "    The class take three diffents 3D images as parameters : it can be 'axial', 'sagital' and 'coronal' and their associated\n",
    "    mask\n",
    "    \"\"\"\n",
    "    def __init__(self,listSlice): \n",
    "        \n",
    "        #attributes initialisation\n",
    "        self.listSlice = listSlice\n",
    "        self.data_img1 = []\n",
    "        self.data_img2 = []\n",
    "        self.slice_img1 = listSlice[0]\n",
    "        self.slice_img2 = listSlice[1]\n",
    "        self.choice = 'mask'\n",
    "        self.orientation1 = 'axial'\n",
    "        self.orientation2 = 'sagital'\n",
    "        self.numImg1 = 0\n",
    "        self.numImg2 = 0\n",
    "        #self.chooseSlice12(self.numImg1,self.numImg2) \n",
    "        self.error = 'mse'\n",
    "        \n",
    "        \n",
    "        #select the two images you are interested in\n",
    "        widgets.interact(\n",
    "        self.chooseImage12,orientation1 = widgets.Dropdown(\n",
    "        options=['axial','sagital','coronal'],\n",
    "        value='sagital',\n",
    "        description='Image 1:',\n",
    "        disabled=False,\n",
    "        ),\n",
    "        orientation2  = widgets.Dropdown(\n",
    "        options=['axial','sagital','coronal'],\n",
    "        value='axial',\n",
    "        description='Image 2:',\n",
    "        disabled=False,\n",
    "        ))\n",
    "\n",
    "        #choose the intersection with mask or without mask\n",
    "        widgets.interact(self.choicePlotSeg,\n",
    "        choice = widgets.Dropdown(\n",
    "        options=['mask','no_mask'],\n",
    "        value='mask',\n",
    "        description='mask ?',\n",
    "        disabled=False,\n",
    "        ))\n",
    "        \n",
    "        \n",
    "        widgets.interact(self.choice_error,\n",
    "            error = widgets.Dropdown(\n",
    "            options=['dice','mse'],\n",
    "            value='mse',\n",
    "            description='error ?',\n",
    "            disabled=False,\n",
    "            ))\n",
    "    \n",
    "        \n",
    "        #display lines of intersection intersection on images\n",
    "        widgets.interact(self.plotSeg,\n",
    "        go=widgets.ToggleButton(\n",
    "        value=False,\n",
    "        description='Ok!',\n",
    "        disabled=False,\n",
    "        button_style='', # 'success', 'info', 'warning', 'danger' or ''\n",
    "        tooltip='Description',\n",
    "        icon='check' # (FontAwesome names without the `fa-` prefix)\n",
    "        ))\n",
    "        \n",
    "        \n",
    "\n",
    "    \"\"\"\n",
    "    Method of the class Viewer3D : choose two images of interest\n",
    "    \"\"\"\n",
    "    def chooseImage12(self,orientation1,orientation2):\n",
    "        print('Hey')\n",
    "        self.orientation1 = orientation1\n",
    "        self.orientation2 = orientation2\n",
    "        \n",
    "        for img in listSlice:\n",
    "            current_orientation = img.get_orientation()\n",
    "            if orientation1 == current_orientation:\n",
    "                self.data_img1.append(img)\n",
    "            if orientation2 == current_orientation:\n",
    "                self.data_img2.append(img)\n",
    "        \n",
    "        nbImage1 = len(self.data_img1)\n",
    "        nbImage2 = len(self.data_img2)\n",
    "\n",
    "        ListImage1 = range(0,nbImage1)\n",
    "        ListImage2 = range(0,nbImage2)\n",
    "\n",
    "\n",
    "        widgets.interact(\n",
    "        self.chooseSlice12,numImg1 = widgets.Dropdown(\n",
    "        options=ListImage1,\n",
    "        value=ListImage1[1],\n",
    "        description='Slice in 1:',\n",
    "        disabled=False,\n",
    "        ),\n",
    "                \n",
    "        numImg2 = widgets.Dropdown(\n",
    "        options=ListImage2,\n",
    "        description='Slice in 2:',\n",
    "        disabled=False,\n",
    "        ))\n",
    "    \n",
    "    \"\"\"\n",
    "    Method of the class Viewer3D, choose 2 slices of interest\n",
    "    \"\"\"\n",
    "    def chooseSlice12(self,numImg1,numImg2):\n",
    "        self.numImg1 = numImg1\n",
    "        self.numImg2 = numImg2\n",
    "        self.slice_img1 = self.data_img1[numImg1]\n",
    "        self.slice_img2 = self.data_img2[numImg2]\n",
    "    \n",
    "    \n",
    "    \"\"\"\n",
    "    Method of the class choicePlotSeg, choose the segment of interest\n",
    "    \"\"\"\n",
    "    def choicePlotSeg(self,choice):\n",
    "            self.choice=choice\n",
    "   \n",
    "    \"\"\"\n",
    "    Plot the segment of intersection in two images\n",
    "    \"\"\"\n",
    "    def plotSeg(self,go):\n",
    "        \n",
    "        if go==True:\n",
    "            \n",
    "            pointImg1,pointImg2,nbpoint,ok = commonSegment(self.slice_img1,self.slice_img2)\n",
    "            if ok>0 and nbpoint != 0:\n",
    "                val1,index1,nbpointSlice1=sliceProfil(self.slice_img1, pointImg1, nbpoint)\n",
    "                val2,index2,nbpointSlice2=sliceProfil(self.slice_img2, pointImg2, nbpoint)\n",
    "                commonVal1,commonVal2,index = commonProfil(val1, index1, val2, index2,nbpoint)\n",
    "                displayIntensityProfil(commonVal1,index1,commonVal2,index2,index)\n",
    "            else:\n",
    "                index=0\n",
    "                nbpointSlice1=0\n",
    "                nbpointSlice2=0\n",
    "            if self.choice=='no_mask':\n",
    "                title1 = 'Intersection segment for image %s without mask, slice %d' %(self.orientation1,self.numImg1)\n",
    "                title2 = 'Intersection segment for image %s without mask, slice %d'%(self.orientation2,self.numImg2)\n",
    "                plotsegment(self.slice_img1,pointImg1,ok,nbpoint,title1,mask=np.nan,index=np.nan,nbpointSlice=None)\n",
    "                plotsegment(self.slice_img2,pointImg2,ok,nbpoint,title2,mask=np.nan,index=np.nan,nbpointSlice=None)\n",
    "            elif self.choice=='mask':\n",
    "                title1 = 'Intersection segment for image %s with mask,slice %d' %(self.orientation1,self.numImg1)\n",
    "                title2 = 'Intersection segment for image %s with mask,slice %d' %(self.orientation2,self.numImg2)\n",
    "                plotsegment(self.slice_img1,pointImg1,ok,nbpoint,title1,mask=self.slice_img1.get_mask(),index=index,nbpointSlice=nbpointSlice1)\n",
    "                plotsegment(self.slice_img2,pointImg2,ok,nbpoint,title2,mask=self.slice_img2.get_mask(),index=index,nbpointSlice=nbpointSlice2)    \n",
    "            if self.error=='mse':\n",
    "                indexMse1,nbpoint1 = indexMse(self.slice_img1,self.listSlice)\n",
    "                print(self.slice_img1.get_orientation())\n",
    "                indexMse2,nbpoint2 = indexMse(self.slice_img2,self.listSlice)\n",
    "                plt.figure()\n",
    "                plt.plot(indexMse1)\n",
    "                plt.plot(nbpoint1)\n",
    "                plt.title('MSE between slice %d in image %s and its orthogonal slice') %(self.orientation1,self.numImg1)\n",
    "                plt.figure()\n",
    "                plt.plot(indexMse2)\n",
    "                plt.plot(nbpoint2)\n",
    "                plt.title('MSE between slice %d in image %s and its orthogonal slice')%(self.orientation1,self.numImg1)\n",
    "            \n",
    "    def choice_error(self,error):\n",
    "        self.error = error\n",
    "            "
   ]
  },
  {
   "cell_type": "code",
   "execution_count": 4,
   "id": "164d193b",
   "metadata": {
    "scrolled": true
   },
   "outputs": [
    {
     "data": {
      "application/vnd.jupyter.widget-view+json": {
       "model_id": "830dfe7aa904451ea69f173fbb5d58ab",
       "version_major": 2,
       "version_minor": 0
      },
      "text/plain": [
       "interactive(children=(Dropdown(description='Image 1:', index=1, options=('axial', 'sagital', 'coronal'), value…"
      ]
     },
     "metadata": {},
     "output_type": "display_data"
    },
    {
     "data": {
      "application/vnd.jupyter.widget-view+json": {
       "model_id": "512254bcac4d48e8992ee17afb45fcd3",
       "version_major": 2,
       "version_minor": 0
      },
      "text/plain": [
       "interactive(children=(Dropdown(description='mask ?', options=('mask', 'no_mask'), value='mask'), Output()), _d…"
      ]
     },
     "metadata": {},
     "output_type": "display_data"
    },
    {
     "data": {
      "application/vnd.jupyter.widget-view+json": {
       "model_id": "247348ba51344d9d8fd434ea2223f179",
       "version_major": 2,
       "version_minor": 0
      },
      "text/plain": [
       "interactive(children=(Dropdown(description='error ?', index=1, options=('dice', 'mse'), value='mse'), Output()…"
      ]
     },
     "metadata": {},
     "output_type": "display_data"
    },
    {
     "data": {
      "application/vnd.jupyter.widget-view+json": {
       "model_id": "5380625d21a0443382c22e5cbf9e1c60",
       "version_major": 2,
       "version_minor": 0
      },
      "text/plain": [
       "interactive(children=(ToggleButton(value=False, description='Ok!', icon='check', tooltip='Description'), Outpu…"
      ]
     },
     "metadata": {},
     "output_type": "display_data"
    },
    {
     "data": {
      "text/plain": [
       "<__main__.Viewer3D at 0x7f5d94331880>"
      ]
     },
     "execution_count": 4,
     "metadata": {},
     "output_type": "execute_result"
    }
   ],
   "source": [
    "listSlice = []\n",
    "loadSlice(img1,mask1,listSlice,'axial')\n",
    "loadSlice(img2,mask2,listSlice,'sagital')\n",
    "loadSlice(img3,mask3,listSlice,'coronal')\n",
    "\n",
    "Viewer3D(listSlice)"
   ]
  },
  {
   "cell_type": "code",
   "execution_count": 5,
   "id": "a492a65c",
   "metadata": {},
   "outputs": [
    {
     "data": {
      "text/plain": [
       "107"
      ]
     },
     "execution_count": 5,
     "metadata": {},
     "output_type": "execute_result"
    }
   ],
   "source": [
    "len(listSlice)"
   ]
  },
  {
   "cell_type": "code",
   "execution_count": null,
   "id": "a84cde61",
   "metadata": {},
   "outputs": [],
   "source": []
  },
  {
   "cell_type": "code",
   "execution_count": null,
   "id": "c8276464",
   "metadata": {},
   "outputs": [],
   "source": []
  },
  {
   "cell_type": "code",
   "execution_count": null,
   "id": "3187c090",
   "metadata": {},
   "outputs": [],
   "source": []
  },
  {
   "cell_type": "code",
   "execution_count": null,
   "id": "4ea633ff",
   "metadata": {},
   "outputs": [],
   "source": []
  },
  {
   "cell_type": "code",
   "execution_count": null,
   "id": "7421ed6d",
   "metadata": {},
   "outputs": [],
   "source": []
  },
  {
   "cell_type": "code",
   "execution_count": null,
   "id": "d2b30b09",
   "metadata": {},
   "outputs": [],
   "source": []
  },
  {
   "cell_type": "code",
   "execution_count": null,
   "id": "be47a590",
   "metadata": {
    "scrolled": true
   },
   "outputs": [],
   "source": [
    "\n"
   ]
  },
  {
   "cell_type": "code",
   "execution_count": 6,
   "id": "68e40750",
   "metadata": {},
   "outputs": [],
   "source": [
    "#https://github.com/mohakpatel/ImageSliceViewer3D/blob/master/ImageSliceViewer3D.ipynb "
   ]
  },
  {
   "cell_type": "code",
   "execution_count": null,
   "id": "bcadeea4",
   "metadata": {},
   "outputs": [],
   "source": []
  },
  {
   "cell_type": "code",
   "execution_count": null,
   "id": "1db60646",
   "metadata": {},
   "outputs": [],
   "source": []
  },
  {
   "cell_type": "code",
   "execution_count": null,
   "id": "6cda392f",
   "metadata": {},
   "outputs": [],
   "source": []
  },
  {
   "cell_type": "code",
   "execution_count": null,
   "id": "43d8d194",
   "metadata": {},
   "outputs": [],
   "source": []
  },
  {
   "cell_type": "code",
   "execution_count": null,
   "id": "aafaf745",
   "metadata": {},
   "outputs": [],
   "source": []
  },
  {
   "cell_type": "code",
   "execution_count": null,
   "id": "4ce7ab64",
   "metadata": {},
   "outputs": [],
   "source": []
  },
  {
   "cell_type": "code",
   "execution_count": null,
   "id": "90606e66",
   "metadata": {},
   "outputs": [],
   "source": []
  }
 ],
 "metadata": {
  "kernelspec": {
   "display_name": "Python 3",
   "language": "python",
   "name": "python3"
  },
  "language_info": {
   "codemirror_mode": {
    "name": "ipython",
    "version": 3
   },
   "file_extension": ".py",
   "mimetype": "text/x-python",
   "name": "python",
   "nbconvert_exporter": "python",
   "pygments_lexer": "ipython3",
   "version": "3.8.8"
  }
 },
 "nbformat": 4,
 "nbformat_minor": 5
}
